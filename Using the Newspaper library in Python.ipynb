{
 "cells": [
  {
   "cell_type": "code",
   "execution_count": 1,
   "metadata": {},
   "outputs": [
    {
     "name": "stdout",
     "output_type": "stream",
     "text": [
      "Collecting newspaper3k\n",
      "  Downloading newspaper3k-0.2.5.tar.gz (191kB)\n",
      "Requirement already satisfied: beautifulsoup4>=4.4.1 in c:\\users\\sreeram\\anaconda3\\lib\\site-packages (from newspaper3k)\n",
      "Requirement already satisfied: Pillow>=3.3.0 in c:\\users\\sreeram\\anaconda3\\lib\\site-packages (from newspaper3k)\n",
      "Requirement already satisfied: PyYAML>=3.11 in c:\\users\\sreeram\\anaconda3\\lib\\site-packages (from newspaper3k)\n",
      "Requirement already satisfied: cssselect>=0.9.2 in c:\\users\\sreeram\\anaconda3\\lib\\site-packages (from newspaper3k)\n",
      "Requirement already satisfied: lxml>=3.6.0 in c:\\users\\sreeram\\anaconda3\\lib\\site-packages (from newspaper3k)\n",
      "Requirement already satisfied: nltk>=3.2.1 in c:\\users\\sreeram\\anaconda3\\lib\\site-packages (from newspaper3k)\n",
      "Requirement already satisfied: requests>=2.10.0 in c:\\users\\sreeram\\anaconda3\\lib\\site-packages (from newspaper3k)\n",
      "Collecting feedparser>=5.2.1 (from newspaper3k)\n",
      "  Downloading feedparser-5.2.1.zip (1.2MB)\n",
      "Collecting tldextract>=2.0.1 (from newspaper3k)\n",
      "  Downloading tldextract-2.1.0-py2.py3-none-any.whl (52kB)\n",
      "Collecting feedfinder2>=0.0.4 (from newspaper3k)\n",
      "  Downloading feedfinder2-0.0.4.tar.gz\n",
      "Collecting jieba3k>=0.35.1 (from newspaper3k)\n",
      "  Downloading jieba3k-0.35.1.zip (7.4MB)\n",
      "Requirement already satisfied: python-dateutil>=2.5.3 in c:\\users\\sreeram\\anaconda3\\lib\\site-packages (from newspaper3k)\n",
      "Requirement already satisfied: olefile in c:\\users\\sreeram\\anaconda3\\lib\\site-packages (from Pillow>=3.3.0->newspaper3k)\n",
      "Requirement already satisfied: six in c:\\users\\sreeram\\anaconda3\\lib\\site-packages (from nltk>=3.2.1->newspaper3k)\n",
      "Requirement already satisfied: chardet<3.1.0,>=3.0.2 in c:\\users\\sreeram\\anaconda3\\lib\\site-packages (from requests>=2.10.0->newspaper3k)\n",
      "Requirement already satisfied: idna<2.7,>=2.5 in c:\\users\\sreeram\\anaconda3\\lib\\site-packages (from requests>=2.10.0->newspaper3k)\n",
      "Requirement already satisfied: urllib3<1.23,>=1.21.1 in c:\\users\\sreeram\\anaconda3\\lib\\site-packages (from requests>=2.10.0->newspaper3k)\n",
      "Requirement already satisfied: certifi>=2017.4.17 in c:\\users\\sreeram\\anaconda3\\lib\\site-packages (from requests>=2.10.0->newspaper3k)\n",
      "Collecting requests-file>=1.4 (from tldextract>=2.0.1->newspaper3k)\n",
      "Requirement already satisfied: setuptools in c:\\users\\sreeram\\anaconda3\\lib\\site-packages (from tldextract>=2.0.1->newspaper3k)\n",
      "Building wheels for collected packages: newspaper3k, feedparser, feedfinder2, jieba3k\n",
      "  Running setup.py bdist_wheel for newspaper3k: started\n",
      "  Running setup.py bdist_wheel for newspaper3k: finished with status 'done'\n",
      "  Stored in directory: C:\\Users\\sreeram\\AppData\\Local\\pip\\Cache\\wheels\\0c\\1b\\0a\\a4621099875a061b365c6591907ce7c506708c5e8d4c22a6af\n",
      "  Running setup.py bdist_wheel for feedparser: started\n",
      "  Running setup.py bdist_wheel for feedparser: finished with status 'done'\n",
      "  Stored in directory: C:\\Users\\sreeram\\AppData\\Local\\pip\\Cache\\wheels\\15\\ce\\10\\b500f745822ea6db6ea8ed225c06b15c000d71016b89ef9037\n",
      "  Running setup.py bdist_wheel for feedfinder2: started\n",
      "  Running setup.py bdist_wheel for feedfinder2: finished with status 'done'\n",
      "  Stored in directory: C:\\Users\\sreeram\\AppData\\Local\\pip\\Cache\\wheels\\3f\\a3\\c7\\47da1638f81a31a4102405fb2984ad2f699037cb3b9ae90ec5\n",
      "  Running setup.py bdist_wheel for jieba3k: started\n",
      "  Running setup.py bdist_wheel for jieba3k: finished with status 'done'\n",
      "  Stored in directory: C:\\Users\\sreeram\\AppData\\Local\\pip\\Cache\\wheels\\58\\fb\\37\\03b0dc30e3e39afe9294b2fe082f9d073d4c25261d4847f6ae\n",
      "Successfully built newspaper3k feedparser feedfinder2 jieba3k\n",
      "Installing collected packages: feedparser, requests-file, tldextract, feedfinder2, jieba3k, newspaper3k\n",
      "Successfully installed feedfinder2-0.0.4 feedparser-5.2.1 jieba3k-0.35.1 newspaper3k-0.2.5 requests-file-1.4.2 tldextract-2.1.0\n"
     ]
    }
   ],
   "source": [
    "!pip install newspaper3k"
   ]
  },
  {
   "cell_type": "code",
   "execution_count": 2,
   "metadata": {
    "collapsed": true
   },
   "outputs": [],
   "source": [
    "import pandas as pd\n",
    "from newspaper import Article"
   ]
  },
  {
   "cell_type": "code",
   "execution_count": 3,
   "metadata": {
    "collapsed": true
   },
   "outputs": [],
   "source": [
    "link = 'https://www.nytimes.com/2017/09/01/opinion/artificial-intelligence-regulations-rules.html'"
   ]
  },
  {
   "cell_type": "code",
   "execution_count": 4,
   "metadata": {
    "collapsed": true
   },
   "outputs": [],
   "source": [
    "article = Article(link)"
   ]
  },
  {
   "cell_type": "code",
   "execution_count": 5,
   "metadata": {
    "collapsed": true
   },
   "outputs": [],
   "source": [
    "article.download()\n",
    "article.parse()"
   ]
  },
  {
   "cell_type": "code",
   "execution_count": 6,
   "metadata": {},
   "outputs": [
    {
     "data": {
      "text/plain": [
       "'How to Regulate Artificial Intelligence'"
      ]
     },
     "execution_count": 6,
     "metadata": {},
     "output_type": "execute_result"
    }
   ],
   "source": [
    "article.title"
   ]
  },
  {
   "cell_type": "code",
   "execution_count": 7,
   "metadata": {},
   "outputs": [
    {
     "data": {
      "text/plain": [
       "datetime.datetime(2017, 9, 1, 0, 0)"
      ]
     },
     "execution_count": 7,
     "metadata": {},
     "output_type": "execute_result"
    }
   ],
   "source": [
    "article.publish_date"
   ]
  },
  {
   "cell_type": "raw",
   "metadata": {},
   "source": []
  },
  {
   "cell_type": "code",
   "execution_count": 8,
   "metadata": {},
   "outputs": [
    {
     "data": {
      "text/plain": [
       "'Photo\\n\\nThe technology entrepreneur Elon Musk recently urged the nation’s governors to regulate artificial intelligence “before it’s too late.” Mr. Musk insists that artificial intelligence represents an “existential threat to humanity,” an alarmist view that confuses A.I. science with science fiction. Nevertheless, even A.I. researchers like me recognize that there are valid concerns about its imp'"
      ]
     },
     "execution_count": 8,
     "metadata": {},
     "output_type": "execute_result"
    }
   ],
   "source": [
    "article.text[:400]"
   ]
  },
  {
   "cell_type": "code",
   "execution_count": 11,
   "metadata": {
    "collapsed": true
   },
   "outputs": [],
   "source": [
    "article.nlp()"
   ]
  },
  {
   "cell_type": "code",
   "execution_count": 12,
   "metadata": {},
   "outputs": [
    {
     "data": {
      "text/plain": [
       "['laws',\n",
       " 'artificial',\n",
       " 'harm',\n",
       " 'dont',\n",
       " 'regulate',\n",
       " 'intelligence',\n",
       " 'sign',\n",
       " 'ai',\n",
       " 'human',\n",
       " 'systems',\n",
       " 'robot']"
      ]
     },
     "execution_count": 12,
     "metadata": {},
     "output_type": "execute_result"
    }
   ],
   "source": [
    "article.keywords"
   ]
  },
  {
   "cell_type": "code",
   "execution_count": 14,
   "metadata": {},
   "outputs": [
    {
     "data": {
      "text/plain": [
       "'PhotoThe technology entrepreneur Elon Musk recently urged the nation’s governors to regulate artificial intelligence “before it’s too late.” Mr. Musk insists that artificial intelligence represents an “existential threat to humanity,” an alarmist view that confuses A.I.\\nresearchers like me recognize that there are valid concerns about its impact on weapons, jobs and privacy.\\nBut shouldn’t we take steps to at least slow down progress on A.I., in the interest of caution?\\nmust have an impregnable “off switch.” Beyond that, we should regulate the tangible impact of A.I.\\nThese three laws are elegant but ambiguous: What, exactly, constitutes harm when it comes to A.I.?'"
      ]
     },
     "execution_count": 14,
     "metadata": {},
     "output_type": "execute_result"
    }
   ],
   "source": [
    "article.summary"
   ]
  },
  {
   "cell_type": "code",
   "execution_count": 15,
   "metadata": {
    "collapsed": true
   },
   "outputs": [],
   "source": [
    "## Profiling the time\n",
    "\n",
    "import time\n",
    "start= time.time()"
   ]
  },
  {
   "cell_type": "code",
   "execution_count": 17,
   "metadata": {},
   "outputs": [],
   "source": [
    "import numpy as np"
   ]
  },
  {
   "cell_type": "code",
   "execution_count": null,
   "metadata": {
    "collapsed": true
   },
   "outputs": [],
   "source": []
  }
 ],
 "metadata": {
  "kernelspec": {
   "display_name": "Python 3",
   "language": "python",
   "name": "python3"
  },
  "language_info": {
   "codemirror_mode": {
    "name": "ipython",
    "version": 3
   },
   "file_extension": ".py",
   "mimetype": "text/x-python",
   "name": "python",
   "nbconvert_exporter": "python",
   "pygments_lexer": "ipython3",
   "version": "3.6.2"
  }
 },
 "nbformat": 4,
 "nbformat_minor": 2
}
